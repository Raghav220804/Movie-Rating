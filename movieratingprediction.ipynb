{
  "cells": [
    {
      "cell_type": "code",
      "execution_count": 21,
      "id": "645f8f13",
      "metadata": {
        "_cell_guid": "b1076dfc-b9ad-4769-8c92-a6c4dae69d19",
        "_uuid": "8f2839f25d086af736a60e9eeb907d3b93b6e0e5",
        "execution": {
          "iopub.execute_input": "2023-12-19T05:10:30.445937Z",
          "iopub.status.busy": "2023-12-19T05:10:30.445386Z",
          "iopub.status.idle": "2023-12-19T05:10:30.985355Z",
          "shell.execute_reply": "2023-12-19T05:10:30.983188Z"
        },
        "papermill": {
          "duration": 0.554248,
          "end_time": "2023-12-19T05:10:30.988531",
          "exception": false,
          "start_time": "2023-12-19T05:10:30.434283",
          "status": "completed"
        },
        "tags": [],
        "id": "645f8f13"
      },
      "outputs": [],
      "source": [
        "\n",
        "import numpy as np\n",
        "import pandas as pd\n",
        "import os\n",
        "for dirname, _, filenames in os.walk('/kaggle/input'):\n",
        "    for filename in filenames:\n",
        "        print(os.path.join(dirname, filename))"
      ]
    },
    {
      "cell_type": "markdown",
      "id": "298fd8f9",
      "metadata": {
        "papermill": {
          "duration": 0.008477,
          "end_time": "2023-12-19T05:10:31.006251",
          "exception": false,
          "start_time": "2023-12-19T05:10:30.997774",
          "status": "completed"
        },
        "tags": [],
        "id": "298fd8f9"
      },
      "source": [
        "\n",
        "\n",
        "\n",
        "* Project Overview\n",
        "* The Movie Rating Prediction project involves analyzing a dataset containing information about Indian movies. The dataset includes details like movie name, year, duration, genre, rating, votes, director, and three main actors. The data will be used to build a predictive model for movie ratings and extract valuable insights from the movie industry.\n",
        "\n",
        "\n",
        " Objectives\n",
        "* Develop a predictive model: Create a machine learning model to predict movie ratings based on the provided dataset.\n",
        "* This is essentially a regression problem, where we aim to estimate the numerical movie ratings based on various features.\n",
        "* Identify influential factors: Analyze the dataset to determine which factors (e.g., genre, director, actors) have the most significant impact on movie ratings.\n",
        "* Provide actionable insights: Offer insights to the film industry stakeholders to make informed decisions about movie production, casting, and marketing.\n",
        "\n"
      ]
    },
    {
      "cell_type": "markdown",
      "id": "0cb33291",
      "metadata": {
        "papermill": {
          "duration": 0.008322,
          "end_time": "2023-12-19T05:10:31.023442",
          "exception": false,
          "start_time": "2023-12-19T05:10:31.015120",
          "status": "completed"
        },
        "tags": [],
        "id": "0cb33291"
      },
      "source": [
        "**TABLE OF CONTENT\n",
        "**\n",
        "\n",
        "\n",
        "* Importing Libraries and Loading data\n",
        "\n",
        "* Data Information and Data Cleaning\n",
        "\n",
        "* Data Visualisation\n",
        "\n"
      ]
    },
    {
      "cell_type": "markdown",
      "id": "7a12f2dd",
      "metadata": {
        "papermill": {
          "duration": 0.008076,
          "end_time": "2023-12-19T05:10:31.040138",
          "exception": false,
          "start_time": "2023-12-19T05:10:31.032062",
          "status": "completed"
        },
        "tags": [],
        "id": "7a12f2dd"
      },
      "source": []
    },
    {
      "cell_type": "code",
      "execution_count": 1,
      "id": "3434d3e1",
      "metadata": {
        "execution": {
          "iopub.execute_input": "2023-12-19T05:10:31.061518Z",
          "iopub.status.busy": "2023-12-19T05:10:31.060800Z",
          "iopub.status.idle": "2023-12-19T05:10:32.760813Z",
          "shell.execute_reply": "2023-12-19T05:10:32.759118Z"
        },
        "papermill": {
          "duration": 1.7151,
          "end_time": "2023-12-19T05:10:32.764391",
          "exception": false,
          "start_time": "2023-12-19T05:10:31.049291",
          "status": "completed"
        },
        "tags": [],
        "id": "3434d3e1"
      },
      "outputs": [],
      "source": [
        "import pandas as pd\n",
        "import numpy as np\n",
        "import matplotlib.pyplot as plt\n",
        "import seaborn as sns"
      ]
    },
    {
      "cell_type": "code",
      "execution_count": 3,
      "id": "462e539e",
      "metadata": {
        "execution": {
          "iopub.execute_input": "2023-12-19T05:10:32.787311Z",
          "iopub.status.busy": "2023-12-19T05:10:32.785819Z",
          "iopub.status.idle": "2023-12-19T05:10:32.897581Z",
          "shell.execute_reply": "2023-12-19T05:10:32.896274Z"
        },
        "papermill": {
          "duration": 0.126757,
          "end_time": "2023-12-19T05:10:32.900805",
          "exception": false,
          "start_time": "2023-12-19T05:10:32.774048",
          "status": "completed"
        },
        "tags": [],
        "id": "462e539e"
      },
      "outputs": [],
      "source": [
        "df= pd.read_csv('/content/IMDb Movies India.csv',encoding='latin1')"
      ]
    },
    {
      "cell_type": "code",
      "execution_count": 4,
      "id": "dc3dd36d",
      "metadata": {
        "execution": {
          "iopub.execute_input": "2023-12-19T05:10:32.920353Z",
          "iopub.status.busy": "2023-12-19T05:10:32.919809Z",
          "iopub.status.idle": "2023-12-19T05:10:32.957172Z",
          "shell.execute_reply": "2023-12-19T05:10:32.955855Z"
        },
        "papermill": {
          "duration": 0.051016,
          "end_time": "2023-12-19T05:10:32.960522",
          "exception": false,
          "start_time": "2023-12-19T05:10:32.909506",
          "status": "completed"
        },
        "tags": [],
        "colab": {
          "base_uri": "https://localhost:8080/",
          "height": 206
        },
        "id": "dc3dd36d",
        "outputId": "5158e1e8-fba0-429e-b819-315dfee702fc"
      },
      "outputs": [
        {
          "output_type": "execute_result",
          "data": {
            "text/plain": [
              "                                 Name    Year Duration            Genre  \\\n",
              "0                                         NaN      NaN            Drama   \n",
              "1  #Gadhvi (He thought he was Gandhi)  (2019)  109 min            Drama   \n",
              "2                         #Homecoming  (2021)   90 min   Drama, Musical   \n",
              "3                             #Yaaram  (2019)  110 min  Comedy, Romance   \n",
              "4                   ...And Once Again  (2010)  105 min            Drama   \n",
              "\n",
              "   Rating Votes            Director       Actor 1             Actor 2  \\\n",
              "0     NaN   NaN       J.S. Randhawa      Manmauji              Birbal   \n",
              "1     7.0     8       Gaurav Bakshi  Rasika Dugal      Vivek Ghamande   \n",
              "2     NaN   NaN  Soumyajit Majumdar  Sayani Gupta   Plabita Borthakur   \n",
              "3     4.4    35          Ovais Khan       Prateik          Ishita Raj   \n",
              "4     NaN   NaN        Amol Palekar  Rajat Kapoor  Rituparna Sengupta   \n",
              "\n",
              "           Actor 3  \n",
              "0  Rajendra Bhatia  \n",
              "1    Arvind Jangid  \n",
              "2       Roy Angana  \n",
              "3  Siddhant Kapoor  \n",
              "4      Antara Mali  "
            ],
            "text/html": [
              "\n",
              "  <div id=\"df-4356af39-efc8-4637-9fba-fdf630c47a56\" class=\"colab-df-container\">\n",
              "    <div>\n",
              "<style scoped>\n",
              "    .dataframe tbody tr th:only-of-type {\n",
              "        vertical-align: middle;\n",
              "    }\n",
              "\n",
              "    .dataframe tbody tr th {\n",
              "        vertical-align: top;\n",
              "    }\n",
              "\n",
              "    .dataframe thead th {\n",
              "        text-align: right;\n",
              "    }\n",
              "</style>\n",
              "<table border=\"1\" class=\"dataframe\">\n",
              "  <thead>\n",
              "    <tr style=\"text-align: right;\">\n",
              "      <th></th>\n",
              "      <th>Name</th>\n",
              "      <th>Year</th>\n",
              "      <th>Duration</th>\n",
              "      <th>Genre</th>\n",
              "      <th>Rating</th>\n",
              "      <th>Votes</th>\n",
              "      <th>Director</th>\n",
              "      <th>Actor 1</th>\n",
              "      <th>Actor 2</th>\n",
              "      <th>Actor 3</th>\n",
              "    </tr>\n",
              "  </thead>\n",
              "  <tbody>\n",
              "    <tr>\n",
              "      <th>0</th>\n",
              "      <td></td>\n",
              "      <td>NaN</td>\n",
              "      <td>NaN</td>\n",
              "      <td>Drama</td>\n",
              "      <td>NaN</td>\n",
              "      <td>NaN</td>\n",
              "      <td>J.S. Randhawa</td>\n",
              "      <td>Manmauji</td>\n",
              "      <td>Birbal</td>\n",
              "      <td>Rajendra Bhatia</td>\n",
              "    </tr>\n",
              "    <tr>\n",
              "      <th>1</th>\n",
              "      <td>#Gadhvi (He thought he was Gandhi)</td>\n",
              "      <td>(2019)</td>\n",
              "      <td>109 min</td>\n",
              "      <td>Drama</td>\n",
              "      <td>7.0</td>\n",
              "      <td>8</td>\n",
              "      <td>Gaurav Bakshi</td>\n",
              "      <td>Rasika Dugal</td>\n",
              "      <td>Vivek Ghamande</td>\n",
              "      <td>Arvind Jangid</td>\n",
              "    </tr>\n",
              "    <tr>\n",
              "      <th>2</th>\n",
              "      <td>#Homecoming</td>\n",
              "      <td>(2021)</td>\n",
              "      <td>90 min</td>\n",
              "      <td>Drama, Musical</td>\n",
              "      <td>NaN</td>\n",
              "      <td>NaN</td>\n",
              "      <td>Soumyajit Majumdar</td>\n",
              "      <td>Sayani Gupta</td>\n",
              "      <td>Plabita Borthakur</td>\n",
              "      <td>Roy Angana</td>\n",
              "    </tr>\n",
              "    <tr>\n",
              "      <th>3</th>\n",
              "      <td>#Yaaram</td>\n",
              "      <td>(2019)</td>\n",
              "      <td>110 min</td>\n",
              "      <td>Comedy, Romance</td>\n",
              "      <td>4.4</td>\n",
              "      <td>35</td>\n",
              "      <td>Ovais Khan</td>\n",
              "      <td>Prateik</td>\n",
              "      <td>Ishita Raj</td>\n",
              "      <td>Siddhant Kapoor</td>\n",
              "    </tr>\n",
              "    <tr>\n",
              "      <th>4</th>\n",
              "      <td>...And Once Again</td>\n",
              "      <td>(2010)</td>\n",
              "      <td>105 min</td>\n",
              "      <td>Drama</td>\n",
              "      <td>NaN</td>\n",
              "      <td>NaN</td>\n",
              "      <td>Amol Palekar</td>\n",
              "      <td>Rajat Kapoor</td>\n",
              "      <td>Rituparna Sengupta</td>\n",
              "      <td>Antara Mali</td>\n",
              "    </tr>\n",
              "  </tbody>\n",
              "</table>\n",
              "</div>\n",
              "    <div class=\"colab-df-buttons\">\n",
              "\n",
              "  <div class=\"colab-df-container\">\n",
              "    <button class=\"colab-df-convert\" onclick=\"convertToInteractive('df-4356af39-efc8-4637-9fba-fdf630c47a56')\"\n",
              "            title=\"Convert this dataframe to an interactive table.\"\n",
              "            style=\"display:none;\">\n",
              "\n",
              "  <svg xmlns=\"http://www.w3.org/2000/svg\" height=\"24px\" viewBox=\"0 -960 960 960\">\n",
              "    <path d=\"M120-120v-720h720v720H120Zm60-500h600v-160H180v160Zm220 220h160v-160H400v160Zm0 220h160v-160H400v160ZM180-400h160v-160H180v160Zm440 0h160v-160H620v160ZM180-180h160v-160H180v160Zm440 0h160v-160H620v160Z\"/>\n",
              "  </svg>\n",
              "    </button>\n",
              "\n",
              "  <style>\n",
              "    .colab-df-container {\n",
              "      display:flex;\n",
              "      gap: 12px;\n",
              "    }\n",
              "\n",
              "    .colab-df-convert {\n",
              "      background-color: #E8F0FE;\n",
              "      border: none;\n",
              "      border-radius: 50%;\n",
              "      cursor: pointer;\n",
              "      display: none;\n",
              "      fill: #1967D2;\n",
              "      height: 32px;\n",
              "      padding: 0 0 0 0;\n",
              "      width: 32px;\n",
              "    }\n",
              "\n",
              "    .colab-df-convert:hover {\n",
              "      background-color: #E2EBFA;\n",
              "      box-shadow: 0px 1px 2px rgba(60, 64, 67, 0.3), 0px 1px 3px 1px rgba(60, 64, 67, 0.15);\n",
              "      fill: #174EA6;\n",
              "    }\n",
              "\n",
              "    .colab-df-buttons div {\n",
              "      margin-bottom: 4px;\n",
              "    }\n",
              "\n",
              "    [theme=dark] .colab-df-convert {\n",
              "      background-color: #3B4455;\n",
              "      fill: #D2E3FC;\n",
              "    }\n",
              "\n",
              "    [theme=dark] .colab-df-convert:hover {\n",
              "      background-color: #434B5C;\n",
              "      box-shadow: 0px 1px 3px 1px rgba(0, 0, 0, 0.15);\n",
              "      filter: drop-shadow(0px 1px 2px rgba(0, 0, 0, 0.3));\n",
              "      fill: #FFFFFF;\n",
              "    }\n",
              "  </style>\n",
              "\n",
              "    <script>\n",
              "      const buttonEl =\n",
              "        document.querySelector('#df-4356af39-efc8-4637-9fba-fdf630c47a56 button.colab-df-convert');\n",
              "      buttonEl.style.display =\n",
              "        google.colab.kernel.accessAllowed ? 'block' : 'none';\n",
              "\n",
              "      async function convertToInteractive(key) {\n",
              "        const element = document.querySelector('#df-4356af39-efc8-4637-9fba-fdf630c47a56');\n",
              "        const dataTable =\n",
              "          await google.colab.kernel.invokeFunction('convertToInteractive',\n",
              "                                                    [key], {});\n",
              "        if (!dataTable) return;\n",
              "\n",
              "        const docLinkHtml = 'Like what you see? Visit the ' +\n",
              "          '<a target=\"_blank\" href=https://colab.research.google.com/notebooks/data_table.ipynb>data table notebook</a>'\n",
              "          + ' to learn more about interactive tables.';\n",
              "        element.innerHTML = '';\n",
              "        dataTable['output_type'] = 'display_data';\n",
              "        await google.colab.output.renderOutput(dataTable, element);\n",
              "        const docLink = document.createElement('div');\n",
              "        docLink.innerHTML = docLinkHtml;\n",
              "        element.appendChild(docLink);\n",
              "      }\n",
              "    </script>\n",
              "  </div>\n",
              "\n",
              "\n",
              "<div id=\"df-0a135159-06c5-4e7f-9073-439878003e29\">\n",
              "  <button class=\"colab-df-quickchart\" onclick=\"quickchart('df-0a135159-06c5-4e7f-9073-439878003e29')\"\n",
              "            title=\"Suggest charts\"\n",
              "            style=\"display:none;\">\n",
              "\n",
              "<svg xmlns=\"http://www.w3.org/2000/svg\" height=\"24px\"viewBox=\"0 0 24 24\"\n",
              "     width=\"24px\">\n",
              "    <g>\n",
              "        <path d=\"M19 3H5c-1.1 0-2 .9-2 2v14c0 1.1.9 2 2 2h14c1.1 0 2-.9 2-2V5c0-1.1-.9-2-2-2zM9 17H7v-7h2v7zm4 0h-2V7h2v10zm4 0h-2v-4h2v4z\"/>\n",
              "    </g>\n",
              "</svg>\n",
              "  </button>\n",
              "\n",
              "<style>\n",
              "  .colab-df-quickchart {\n",
              "      --bg-color: #E8F0FE;\n",
              "      --fill-color: #1967D2;\n",
              "      --hover-bg-color: #E2EBFA;\n",
              "      --hover-fill-color: #174EA6;\n",
              "      --disabled-fill-color: #AAA;\n",
              "      --disabled-bg-color: #DDD;\n",
              "  }\n",
              "\n",
              "  [theme=dark] .colab-df-quickchart {\n",
              "      --bg-color: #3B4455;\n",
              "      --fill-color: #D2E3FC;\n",
              "      --hover-bg-color: #434B5C;\n",
              "      --hover-fill-color: #FFFFFF;\n",
              "      --disabled-bg-color: #3B4455;\n",
              "      --disabled-fill-color: #666;\n",
              "  }\n",
              "\n",
              "  .colab-df-quickchart {\n",
              "    background-color: var(--bg-color);\n",
              "    border: none;\n",
              "    border-radius: 50%;\n",
              "    cursor: pointer;\n",
              "    display: none;\n",
              "    fill: var(--fill-color);\n",
              "    height: 32px;\n",
              "    padding: 0;\n",
              "    width: 32px;\n",
              "  }\n",
              "\n",
              "  .colab-df-quickchart:hover {\n",
              "    background-color: var(--hover-bg-color);\n",
              "    box-shadow: 0 1px 2px rgba(60, 64, 67, 0.3), 0 1px 3px 1px rgba(60, 64, 67, 0.15);\n",
              "    fill: var(--button-hover-fill-color);\n",
              "  }\n",
              "\n",
              "  .colab-df-quickchart-complete:disabled,\n",
              "  .colab-df-quickchart-complete:disabled:hover {\n",
              "    background-color: var(--disabled-bg-color);\n",
              "    fill: var(--disabled-fill-color);\n",
              "    box-shadow: none;\n",
              "  }\n",
              "\n",
              "  .colab-df-spinner {\n",
              "    border: 2px solid var(--fill-color);\n",
              "    border-color: transparent;\n",
              "    border-bottom-color: var(--fill-color);\n",
              "    animation:\n",
              "      spin 1s steps(1) infinite;\n",
              "  }\n",
              "\n",
              "  @keyframes spin {\n",
              "    0% {\n",
              "      border-color: transparent;\n",
              "      border-bottom-color: var(--fill-color);\n",
              "      border-left-color: var(--fill-color);\n",
              "    }\n",
              "    20% {\n",
              "      border-color: transparent;\n",
              "      border-left-color: var(--fill-color);\n",
              "      border-top-color: var(--fill-color);\n",
              "    }\n",
              "    30% {\n",
              "      border-color: transparent;\n",
              "      border-left-color: var(--fill-color);\n",
              "      border-top-color: var(--fill-color);\n",
              "      border-right-color: var(--fill-color);\n",
              "    }\n",
              "    40% {\n",
              "      border-color: transparent;\n",
              "      border-right-color: var(--fill-color);\n",
              "      border-top-color: var(--fill-color);\n",
              "    }\n",
              "    60% {\n",
              "      border-color: transparent;\n",
              "      border-right-color: var(--fill-color);\n",
              "    }\n",
              "    80% {\n",
              "      border-color: transparent;\n",
              "      border-right-color: var(--fill-color);\n",
              "      border-bottom-color: var(--fill-color);\n",
              "    }\n",
              "    90% {\n",
              "      border-color: transparent;\n",
              "      border-bottom-color: var(--fill-color);\n",
              "    }\n",
              "  }\n",
              "</style>\n",
              "\n",
              "  <script>\n",
              "    async function quickchart(key) {\n",
              "      const quickchartButtonEl =\n",
              "        document.querySelector('#' + key + ' button');\n",
              "      quickchartButtonEl.disabled = true;  // To prevent multiple clicks.\n",
              "      quickchartButtonEl.classList.add('colab-df-spinner');\n",
              "      try {\n",
              "        const charts = await google.colab.kernel.invokeFunction(\n",
              "            'suggestCharts', [key], {});\n",
              "      } catch (error) {\n",
              "        console.error('Error during call to suggestCharts:', error);\n",
              "      }\n",
              "      quickchartButtonEl.classList.remove('colab-df-spinner');\n",
              "      quickchartButtonEl.classList.add('colab-df-quickchart-complete');\n",
              "    }\n",
              "    (() => {\n",
              "      let quickchartButtonEl =\n",
              "        document.querySelector('#df-0a135159-06c5-4e7f-9073-439878003e29 button');\n",
              "      quickchartButtonEl.style.display =\n",
              "        google.colab.kernel.accessAllowed ? 'block' : 'none';\n",
              "    })();\n",
              "  </script>\n",
              "</div>\n",
              "\n",
              "    </div>\n",
              "  </div>\n"
            ],
            "application/vnd.google.colaboratory.intrinsic+json": {
              "type": "dataframe",
              "variable_name": "df",
              "summary": "{\n  \"name\": \"df\",\n  \"rows\": 15509,\n  \"fields\": [\n    {\n      \"column\": \"Name\",\n      \"properties\": {\n        \"dtype\": \"string\",\n        \"num_unique_values\": 13838,\n        \"samples\": [\n          \"Tumsa Nahin Dekha\",\n          \"Thanedaar\",\n          \"Farzande Hind\"\n        ],\n        \"semantic_type\": \"\",\n        \"description\": \"\"\n      }\n    },\n    {\n      \"column\": \"Year\",\n      \"properties\": {\n        \"dtype\": \"category\",\n        \"num_unique_values\": 102,\n        \"samples\": [\n          \"(1974)\",\n          \"(1963)\",\n          \"(1971)\"\n        ],\n        \"semantic_type\": \"\",\n        \"description\": \"\"\n      }\n    },\n    {\n      \"column\": \"Duration\",\n      \"properties\": {\n        \"dtype\": \"category\",\n        \"num_unique_values\": 182,\n        \"samples\": [\n          \"168 min\",\n          \"99 min\",\n          \"179 min\"\n        ],\n        \"semantic_type\": \"\",\n        \"description\": \"\"\n      }\n    },\n    {\n      \"column\": \"Genre\",\n      \"properties\": {\n        \"dtype\": \"category\",\n        \"num_unique_values\": 485,\n        \"samples\": [\n          \"Family, Mystery\",\n          \"Comedy, Fantasy, Musical\",\n          \"Action, Adventure, Crime\"\n        ],\n        \"semantic_type\": \"\",\n        \"description\": \"\"\n      }\n    },\n    {\n      \"column\": \"Rating\",\n      \"properties\": {\n        \"dtype\": \"number\",\n        \"std\": 1.3817771548659543,\n        \"min\": 1.1,\n        \"max\": 10.0,\n        \"num_unique_values\": 84,\n        \"samples\": [\n          1.4,\n          7.0,\n          2.9\n        ],\n        \"semantic_type\": \"\",\n        \"description\": \"\"\n      }\n    },\n    {\n      \"column\": \"Votes\",\n      \"properties\": {\n        \"dtype\": \"category\",\n        \"num_unique_values\": 2034,\n        \"samples\": [\n          \"837\",\n          \"101\",\n          \"2,566\"\n        ],\n        \"semantic_type\": \"\",\n        \"description\": \"\"\n      }\n    },\n    {\n      \"column\": \"Director\",\n      \"properties\": {\n        \"dtype\": \"category\",\n        \"num_unique_values\": 5938,\n        \"samples\": [\n          \"Param Hans Chitra\",\n          \"Vickram\",\n          \"Zaigham Ali Syed\"\n        ],\n        \"semantic_type\": \"\",\n        \"description\": \"\"\n      }\n    },\n    {\n      \"column\": \"Actor 1\",\n      \"properties\": {\n        \"dtype\": \"category\",\n        \"num_unique_values\": 4718,\n        \"samples\": [\n          \"Abhishek Bachchan\",\n          \"Giri Babu\",\n          \"Ajay Bafna\"\n        ],\n        \"semantic_type\": \"\",\n        \"description\": \"\"\n      }\n    },\n    {\n      \"column\": \"Actor 2\",\n      \"properties\": {\n        \"dtype\": \"category\",\n        \"num_unique_values\": 4891,\n        \"samples\": [\n          \"Bipasha Basu\",\n          \"Mukul Dev\",\n          \"Arjun Kapoor\"\n        ],\n        \"semantic_type\": \"\",\n        \"description\": \"\"\n      }\n    },\n    {\n      \"column\": \"Actor 3\",\n      \"properties\": {\n        \"dtype\": \"category\",\n        \"num_unique_values\": 4820,\n        \"samples\": [\n          \"Damandeep Singh\",\n          \"Kamini Kaushal\",\n          \"Babu\"\n        ],\n        \"semantic_type\": \"\",\n        \"description\": \"\"\n      }\n    }\n  ]\n}"
            }
          },
          "metadata": {},
          "execution_count": 4
        }
      ],
      "source": [
        "df.head()"
      ]
    },
    {
      "source": [
        "\n",
        "import matplotlib.pyplot as plt\n",
        "import seaborn as sns\n",
        "import pandas as pd\n",
        "\n",
        "\n",
        "df = pd.DataFrame({'Year': [2000, 2005, 2010, 2015, 2020],\n",
        "                   'Rating': [6.5, 7.2, 8.1, 7.8, 8.5]})\n",
        "\n",
        "def _plot_series(series, series_name, series_index=0):\n",
        "    palette = list(sns.color_palette('Dark2'))\n",
        "    xs = series['Year']\n",
        "    ys = series['Rating']\n",
        "\n",
        "    plt.plot(xs, ys, label=series_name if series_name else \"Series\",\n",
        "             color=palette[series_index % len(palette)])\n",
        "\n",
        "\n",
        "fig, ax = plt.subplots(figsize=(10, 5.2), constrained_layout=True)\n",
        "\n",
        "\n",
        "df_sorted = df.sort_values('Year', ascending=True)\n",
        "\n",
        "\n",
        "_plot_series(df_sorted, 'Ratings')\n",
        "\n",
        "\n",
        "sns.despine(fig=fig, ax=ax)\n",
        "\n",
        "\n",
        "plt.xlabel('Year')\n",
        "plt.ylabel('Rating')\n",
        "\n",
        "\n",
        "plt.legend()\n",
        "\n",
        "\n",
        "plt.show()\n"
      ],
      "cell_type": "code",
      "execution_count": 24,
      "outputs": [
        {
          "output_type": "display_data",
          "data": {
            "text/plain": [
              "<Figure size 1000x520 with 1 Axes>"
            ],
            "image/png": "[encoded data removed]"
          },
          "metadata": {}
        }
      ],
      "metadata": {
        "colab": {
          "base_uri": "https://localhost:8080/",
          "height": 548
        },
        "id": "h58benYPZyR8",
        "outputId": "517f6405-8b97-4398-f594-fc8f3dc4d5d4"
      },
      "id": "h58benYPZyR8"
    },
    {
      "cell_type": "code",
      "execution_count": 5,
      "id": "e8e3c750",
      "metadata": {
        "execution": {
          "iopub.execute_input": "2023-12-19T05:10:32.981032Z",
          "iopub.status.busy": "2023-12-19T05:10:32.980429Z",
          "iopub.status.idle": "2023-12-19T05:10:33.006291Z",
          "shell.execute_reply": "2023-12-19T05:10:33.004852Z"
        },
        "papermill": {
          "duration": 0.039918,
          "end_time": "2023-12-19T05:10:33.009441",
          "exception": false,
          "start_time": "2023-12-19T05:10:32.969523",
          "status": "completed"
        },
        "tags": [],
        "colab": {
          "base_uri": "https://localhost:8080/",
          "height": 300
        },
        "id": "e8e3c750",
        "outputId": "4e2ebe63-03ae-476d-e463-0c33eae61e14"
      },
      "outputs": [
        {
          "output_type": "execute_result",
          "data": {
            "text/plain": [
              "            Rating\n",
              "count  7919.000000\n",
              "mean      5.841621\n",
              "std       1.381777\n",
              "min       1.100000\n",
              "25%       4.900000\n",
              "50%       6.000000\n",
              "75%       6.800000\n",
              "max      10.000000"
            ],
            "text/html": [
              "\n",
              "  <div id=\"df-1db81239-2bf4-4404-b29f-b17c36153106\" class=\"colab-df-container\">\n",
              "    <div>\n",
              "<style scoped>\n",
              "    .dataframe tbody tr th:only-of-type {\n",
              "        vertical-align: middle;\n",
              "    }\n",
              "\n",
              "    .dataframe tbody tr th {\n",
              "        vertical-align: top;\n",
              "    }\n",
              "\n",
              "    .dataframe thead th {\n",
              "        text-align: right;\n",
              "    }\n",
              "</style>\n",
              "<table border=\"1\" class=\"dataframe\">\n",
              "  <thead>\n",
              "    <tr style=\"text-align: right;\">\n",
              "      <th></th>\n",
              "      <th>Rating</th>\n",
              "    </tr>\n",
              "  </thead>\n",
              "  <tbody>\n",
              "    <tr>\n",
              "      <th>count</th>\n",
              "      <td>7919.000000</td>\n",
              "    </tr>\n",
              "    <tr>\n",
              "      <th>mean</th>\n",
              "      <td>5.841621</td>\n",
              "    </tr>\n",
              "    <tr>\n",
              "      <th>std</th>\n",
              "      <td>1.381777</td>\n",
              "    </tr>\n",
              "    <tr>\n",
              "      <th>min</th>\n",
              "      <td>1.100000</td>\n",
              "    </tr>\n",
              "    <tr>\n",
              "      <th>25%</th>\n",
              "      <td>4.900000</td>\n",
              "    </tr>\n",
              "    <tr>\n",
              "      <th>50%</th>\n",
              "      <td>6.000000</td>\n",
              "    </tr>\n",
              "    <tr>\n",
              "      <th>75%</th>\n",
              "      <td>6.800000</td>\n",
              "    </tr>\n",
              "    <tr>\n",
              "      <th>max</th>\n",
              "      <td>10.000000</td>\n",
              "    </tr>\n",
              "  </tbody>\n",
              "</table>\n",
              "</div>\n",
              "    <div class=\"colab-df-buttons\">\n",
              "\n",
              "  <div class=\"colab-df-container\">\n",
              "    <button class=\"colab-df-convert\" onclick=\"convertToInteractive('df-1db81239-2bf4-4404-b29f-b17c36153106')\"\n",
              "            title=\"Convert this dataframe to an interactive table.\"\n",
              "            style=\"display:none;\">\n",
              "\n",
              "  <svg xmlns=\"http://www.w3.org/2000/svg\" height=\"24px\" viewBox=\"0 -960 960 960\">\n",
              "    <path d=\"M120-120v-720h720v720H120Zm60-500h600v-160H180v160Zm220 220h160v-160H400v160Zm0 220h160v-160H400v160ZM180-400h160v-160H180v160Zm440 0h160v-160H620v160ZM180-180h160v-160H180v160Zm440 0h160v-160H620v160Z\"/>\n",
              "  </svg>\n",
              "    </button>\n",
              "\n",
              "  <style>\n",
              "    .colab-df-container {\n",
              "      display:flex;\n",
              "      gap: 12px;\n",
              "    }\n",
              "\n",
              "    .colab-df-convert {\n",
              "      background-color: #E8F0FE;\n",
              "      border: none;\n",
              "      border-radius: 50%;\n",
              "      cursor: pointer;\n",
              "      display: none;\n",
              "      fill: #1967D2;\n",
              "      height: 32px;\n",
              "      padding: 0 0 0 0;\n",
              "      width: 32px;\n",
              "    }\n",
              "\n",
              "    .colab-df-convert:hover {\n",
              "      background-color: #E2EBFA;\n",
              "      box-shadow: 0px 1px 2px rgba(60, 64, 67, 0.3), 0px 1px 3px 1px rgba(60, 64, 67, 0.15);\n",
              "      fill: #174EA6;\n",
              "    }\n",
              "\n",
              "    .colab-df-buttons div {\n",
              "      margin-bottom: 4px;\n",
              "    }\n",
              "\n",
              "    [theme=dark] .colab-df-convert {\n",
              "      background-color: #3B4455;\n",
              "      fill: #D2E3FC;\n",
              "    }\n",
              "\n",
              "    [theme=dark] .colab-df-convert:hover {\n",
              "      background-color: #434B5C;\n",
              "      box-shadow: 0px 1px 3px 1px rgba(0, 0, 0, 0.15);\n",
              "      filter: drop-shadow(0px 1px 2px rgba(0, 0, 0, 0.3));\n",
              "      fill: #FFFFFF;\n",
              "    }\n",
              "  </style>\n",
              "\n",
              "    <script>\n",
              "      const buttonEl =\n",
              "        document.querySelector('#df-1db81239-2bf4-4404-b29f-b17c36153106 button.colab-df-convert');\n",
              "      buttonEl.style.display =\n",
              "        google.colab.kernel.accessAllowed ? 'block' : 'none';\n",
              "\n",
              "      async function convertToInteractive(key) {\n",
              "        const element = document.querySelector('#df-1db81239-2bf4-4404-b29f-b17c36153106');\n",
              "        const dataTable =\n",
              "          await google.colab.kernel.invokeFunction('convertToInteractive',\n",
              "                                                    [key], {});\n",
              "        if (!dataTable) return;\n",
              "\n",
              "        const docLinkHtml = 'Like what you see? Visit the ' +\n",
              "          '<a target=\"_blank\" href=https://colab.research.google.com/notebooks/data_table.ipynb>data table notebook</a>'\n",
              "          + ' to learn more about interactive tables.';\n",
              "        element.innerHTML = '';\n",
              "        dataTable['output_type'] = 'display_data';\n",
              "        await google.colab.output.renderOutput(dataTable, element);\n",
              "        const docLink = document.createElement('div');\n",
              "        docLink.innerHTML = docLinkHtml;\n",
              "        element.appendChild(docLink);\n",
              "      }\n",
              "    </script>\n",
              "  </div>\n",
              "\n",
              "\n",
              "<div id=\"df-0cb57b37-5063-4818-a7a2-07b8cefb8141\">\n",
              "  <button class=\"colab-df-quickchart\" onclick=\"quickchart('df-0cb57b37-5063-4818-a7a2-07b8cefb8141')\"\n",
              "            title=\"Suggest charts\"\n",
              "            style=\"display:none;\">\n",
              "\n",
              "<svg xmlns=\"http://www.w3.org/2000/svg\" height=\"24px\"viewBox=\"0 0 24 24\"\n",
              "     width=\"24px\">\n",
              "    <g>\n",
              "        <path d=\"M19 3H5c-1.1 0-2 .9-2 2v14c0 1.1.9 2 2 2h14c1.1 0 2-.9 2-2V5c0-1.1-.9-2-2-2zM9 17H7v-7h2v7zm4 0h-2V7h2v10zm4 0h-2v-4h2v4z\"/>\n",
              "    </g>\n",
              "</svg>\n",
              "  </button>\n",
              "\n",
              "<style>\n",
              "  .colab-df-quickchart {\n",
              "      --bg-color: #E8F0FE;\n",
              "      --fill-color: #1967D2;\n",
              "      --hover-bg-color: #E2EBFA;\n",
              "      --hover-fill-color: #174EA6;\n",
              "      --disabled-fill-color: #AAA;\n",
              "      --disabled-bg-color: #DDD;\n",
              "  }\n",
              "\n",
              "  [theme=dark] .colab-df-quickchart {\n",
              "      --bg-color: #3B4455;\n",
              "      --fill-color: #D2E3FC;\n",
              "      --hover-bg-color: #434B5C;\n",
              "      --hover-fill-color: #FFFFFF;\n",
              "      --disabled-bg-color: #3B4455;\n",
              "      --disabled-fill-color: #666;\n",
              "  }\n",
              "\n",
              "  .colab-df-quickchart {\n",
              "    background-color: var(--bg-color);\n",
              "    border: none;\n",
              "    border-radius: 50%;\n",
              "    cursor: pointer;\n",
              "    display: none;\n",
              "    fill: var(--fill-color);\n",
              "    height: 32px;\n",
              "    padding: 0;\n",
              "    width: 32px;\n",
              "  }\n",
              "\n",
              "  .colab-df-quickchart:hover {\n",
              "    background-color: var(--hover-bg-color);\n",
              "    box-shadow: 0 1px 2px rgba(60, 64, 67, 0.3), 0 1px 3px 1px rgba(60, 64, 67, 0.15);\n",
              "    fill: var(--button-hover-fill-color);\n",
              "  }\n",
              "\n",
              "  .colab-df-quickchart-complete:disabled,\n",
              "  .colab-df-quickchart-complete:disabled:hover {\n",
              "    background-color: var(--disabled-bg-color);\n",
              "    fill: var(--disabled-fill-color);\n",
              "    box-shadow: none;\n",
              "  }\n",
              "\n",
              "  .colab-df-spinner {\n",
              "    border: 2px solid var(--fill-color);\n",
              "    border-color: transparent;\n",
              "    border-bottom-color: var(--fill-color);\n",
              "    animation:\n",
              "      spin 1s steps(1) infinite;\n",
              "  }\n",
              "\n",
              "  @keyframes spin {\n",
              "    0% {\n",
              "      border-color: transparent;\n",
              "      border-bottom-color: var(--fill-color);\n",
              "      border-left-color: var(--fill-color);\n",
              "    }\n",
              "    20% {\n",
              "      border-color: transparent;\n",
              "      border-left-color: var(--fill-color);\n",
              "      border-top-color: var(--fill-color);\n",
              "    }\n",
              "    30% {\n",
              "      border-color: transparent;\n",
              "      border-left-color: var(--fill-color);\n",
              "      border-top-color: var(--fill-color);\n",
              "      border-right-color: var(--fill-color);\n",
              "    }\n",
              "    40% {\n",
              "      border-color: transparent;\n",
              "      border-right-color: var(--fill-color);\n",
              "      border-top-color: var(--fill-color);\n",
              "    }\n",
              "    60% {\n",
              "      border-color: transparent;\n",
              "      border-right-color: var(--fill-color);\n",
              "    }\n",
              "    80% {\n",
              "      border-color: transparent;\n",
              "      border-right-color: var(--fill-color);\n",
              "      border-bottom-color: var(--fill-color);\n",
              "    }\n",
              "    90% {\n",
              "      border-color: transparent;\n",
              "      border-bottom-color: var(--fill-color);\n",
              "    }\n",
              "  }\n",
              "</style>\n",
              "\n",
              "  <script>\n",
              "    async function quickchart(key) {\n",
              "      const quickchartButtonEl =\n",
              "        document.querySelector('#' + key + ' button');\n",
              "      quickchartButtonEl.disabled = true;  // To prevent multiple clicks.\n",
              "      quickchartButtonEl.classList.add('colab-df-spinner');\n",
              "      try {\n",
              "        const charts = await google.colab.kernel.invokeFunction(\n",
              "            'suggestCharts', [key], {});\n",
              "      } catch (error) {\n",
              "        console.error('Error during call to suggestCharts:', error);\n",
              "      }\n",
              "      quickchartButtonEl.classList.remove('colab-df-spinner');\n",
              "      quickchartButtonEl.classList.add('colab-df-quickchart-complete');\n",
              "    }\n",
              "    (() => {\n",
              "      let quickchartButtonEl =\n",
              "        document.querySelector('#df-0cb57b37-5063-4818-a7a2-07b8cefb8141 button');\n",
              "      quickchartButtonEl.style.display =\n",
              "        google.colab.kernel.accessAllowed ? 'block' : 'none';\n",
              "    })();\n",
              "  </script>\n",
              "</div>\n",
              "\n",
              "    </div>\n",
              "  </div>\n"
            ],
            "application/vnd.google.colaboratory.intrinsic+json": {
              "type": "dataframe",
              "summary": "{\n  \"name\": \"df\",\n  \"rows\": 8,\n  \"fields\": [\n    {\n      \"column\": \"Rating\",\n      \"properties\": {\n        \"dtype\": \"number\",\n        \"std\": 2797.9713272009612,\n        \"min\": 1.1,\n        \"max\": 7919.0,\n        \"num_unique_values\": 8,\n        \"samples\": [\n          5.841621416845562,\n          6.0,\n          7919.0\n        ],\n        \"semantic_type\": \"\",\n        \"description\": \"\"\n      }\n    }\n  ]\n}"
            }
          },
          "metadata": {},
          "execution_count": 5
        }
      ],
      "source": [
        "df.describe()\n"
      ]
    },
    {
      "cell_type": "code",
      "execution_count": 6,
      "id": "13347c06",
      "metadata": {
        "execution": {
          "iopub.execute_input": "2023-12-19T05:10:33.031888Z",
          "iopub.status.busy": "2023-12-19T05:10:33.031321Z",
          "iopub.status.idle": "2023-12-19T05:10:33.203418Z",
          "shell.execute_reply": "2023-12-19T05:10:33.201999Z"
        },
        "papermill": {
          "duration": 0.187149,
          "end_time": "2023-12-19T05:10:33.206728",
          "exception": false,
          "start_time": "2023-12-19T05:10:33.019579",
          "status": "completed"
        },
        "tags": [],
        "colab": {
          "base_uri": "https://localhost:8080/"
        },
        "id": "13347c06",
        "outputId": "f70fdafe-b671-4de1-a348-a70e1c23d4a4"
      },
      "outputs": [
        {
          "output_type": "stream",
          "name": "stdout",
          "text": [
            "<class 'pandas.core.frame.DataFrame'>\n",
            "RangeIndex: 15509 entries, 0 to 15508\n",
            "Data columns (total 10 columns):\n",
            " #   Column    Non-Null Count  Dtype  \n",
            "---  ------    --------------  -----  \n",
            " 0   Name      15509 non-null  object \n",
            " 1   Year      14981 non-null  object \n",
            " 2   Duration  7240 non-null   object \n",
            " 3   Genre     13632 non-null  object \n",
            " 4   Rating    7919 non-null   float64\n",
            " 5   Votes     7920 non-null   object \n",
            " 6   Director  14984 non-null  object \n",
            " 7   Actor 1   13892 non-null  object \n",
            " 8   Actor 2   13125 non-null  object \n",
            " 9   Actor 3   12365 non-null  object \n",
            "dtypes: float64(1), object(9)\n",
            "memory usage: 1.2+ MB\n"
          ]
        }
      ],
      "source": [
        "df.info()"
      ]
    },
    {
      "cell_type": "code",
      "execution_count": 7,
      "id": "9608ac7d",
      "metadata": {
        "execution": {
          "iopub.execute_input": "2023-12-19T05:10:33.229267Z",
          "iopub.status.busy": "2023-12-19T05:10:33.227756Z",
          "iopub.status.idle": "2023-12-19T05:10:33.236761Z",
          "shell.execute_reply": "2023-12-19T05:10:33.235483Z"
        },
        "papermill": {
          "duration": 0.023243,
          "end_time": "2023-12-19T05:10:33.239420",
          "exception": false,
          "start_time": "2023-12-19T05:10:33.216177",
          "status": "completed"
        },
        "tags": [],
        "colab": {
          "base_uri": "https://localhost:8080/"
        },
        "id": "9608ac7d",
        "outputId": "751f3c58-c78e-4905-ffc5-e5fba1fdbc26"
      },
      "outputs": [
        {
          "output_type": "execute_result",
          "data": {
            "text/plain": [
              "(15509, 10)"
            ]
          },
          "metadata": {},
          "execution_count": 7
        }
      ],
      "source": [
        "df.shape"
      ]
    },
    {
      "cell_type": "code",
      "execution_count": 8,
      "id": "f2f2034b",
      "metadata": {
        "execution": {
          "iopub.execute_input": "2023-12-19T05:10:33.261394Z",
          "iopub.status.busy": "2023-12-19T05:10:33.260457Z",
          "iopub.status.idle": "2023-12-19T05:10:33.270011Z",
          "shell.execute_reply": "2023-12-19T05:10:33.268724Z"
        },
        "papermill": {
          "duration": 0.023927,
          "end_time": "2023-12-19T05:10:33.272939",
          "exception": false,
          "start_time": "2023-12-19T05:10:33.249012",
          "status": "completed"
        },
        "tags": [],
        "colab": {
          "base_uri": "https://localhost:8080/"
        },
        "id": "f2f2034b",
        "outputId": "c310873c-7633-46aa-fd9d-2dd7eb3efc7a"
      },
      "outputs": [
        {
          "output_type": "execute_result",
          "data": {
            "text/plain": [
              "array([nan, '(2019)', '(2021)', '(2010)', '(1997)', '(2005)', '(2008)',\n",
              "       '(2012)', '(2014)', '(2004)', '(2016)', '(1991)', '(1990)',\n",
              "       '(2018)', '(1987)', '(1948)', '(1958)', '(2017)', '(2020)',\n",
              "       '(2009)', '(2002)', '(1993)', '(1946)', '(1994)', '(2007)',\n",
              "       '(2013)', '(2003)', '(1998)', '(1979)', '(1951)', '(1956)',\n",
              "       '(1974)', '(2015)', '(2006)', '(1981)', '(1985)', '(2011)',\n",
              "       '(2001)', '(1967)', '(1988)', '(1995)', '(1959)', '(1996)',\n",
              "       '(1970)', '(1976)', '(2000)', '(1999)', '(1973)', '(1968)',\n",
              "       '(1943)', '(1953)', '(1986)', '(1983)', '(1989)', '(1982)',\n",
              "       '(1977)', '(1957)', '(1950)', '(1992)', '(1969)', '(1975)',\n",
              "       '(1947)', '(1972)', '(1971)', '(1935)', '(1978)', '(1960)',\n",
              "       '(1944)', '(1963)', '(1940)', '(1984)', '(1934)', '(1955)',\n",
              "       '(1936)', '(1980)', '(1966)', '(1949)', '(1962)', '(1964)',\n",
              "       '(1952)', '(1933)', '(1942)', '(1939)', '(1954)', '(1945)',\n",
              "       '(1961)', '(1965)', '(1938)', '(1941)', '(1931)', '(1937)',\n",
              "       '(2022)', '(1932)', '(1923)', '(1915)', '(1928)', '(1922)',\n",
              "       '(1917)', '(1913)', '(1930)', '(1926)', '(1914)', '(1924)'],\n",
              "      dtype=object)"
            ]
          },
          "metadata": {},
          "execution_count": 8
        }
      ],
      "source": [
        "df.Year.unique()"
      ]
    },
    {
      "cell_type": "code",
      "execution_count": 9,
      "id": "9dde4615",
      "metadata": {
        "execution": {
          "iopub.execute_input": "2023-12-19T05:10:33.295107Z",
          "iopub.status.busy": "2023-12-19T05:10:33.294600Z",
          "iopub.status.idle": "2023-12-19T05:10:33.302716Z",
          "shell.execute_reply": "2023-12-19T05:10:33.301781Z"
        },
        "papermill": {
          "duration": 0.022775,
          "end_time": "2023-12-19T05:10:33.305752",
          "exception": false,
          "start_time": "2023-12-19T05:10:33.282977",
          "status": "completed"
        },
        "tags": [],
        "colab": {
          "base_uri": "https://localhost:8080/"
        },
        "id": "9dde4615",
        "outputId": "ea2c5a42-67ea-4384-d2b3-9fba46193c6b"
      },
      "outputs": [
        {
          "output_type": "execute_result",
          "data": {
            "text/plain": [
              "array([ nan,  7. ,  4.4,  4.7,  7.4,  5.6,  4. ,  6.2,  5.9,  6.5,  5.7,\n",
              "        6.3,  7.2,  6.6,  7.3,  7.1,  6.9,  3.5,  5. ,  4.5,  6.4,  4.1,\n",
              "        4.8,  8.1,  5.5,  6.8,  6.1,  7.7,  5.1,  7.6,  3.1,  3.3,  7.8,\n",
              "        8.4,  5.2,  4.3,  5.8,  4.6,  7.5,  6.7,  3.6,  3.9,  5.4,  4.2,\n",
              "        5.3,  3.4,  3. ,  8. ,  6. ,  3.8,  7.9,  2.7,  4.9,  2.4,  3.7,\n",
              "        3.2,  2.5,  2.8,  2.6,  2.9,  8.2,  8.7,  8.3,  9.3,  8.8,  2.1,\n",
              "        2.3,  8.5,  8.6,  9. ,  9.6,  1.7,  9.1,  2. ,  1.4,  8.9,  1.9,\n",
              "        9.4,  9.7,  1.8,  9.2,  1.6, 10. ,  2.2,  1.1])"
            ]
          },
          "metadata": {},
          "execution_count": 9
        }
      ],
      "source": [
        "df.Rating.unique()"
      ]
    },
    {
      "cell_type": "code",
      "execution_count": 10,
      "id": "8b6ffbdf",
      "metadata": {
        "execution": {
          "iopub.execute_input": "2023-12-19T05:10:33.328590Z",
          "iopub.status.busy": "2023-12-19T05:10:33.327341Z",
          "iopub.status.idle": "2023-12-19T05:10:33.352404Z",
          "shell.execute_reply": "2023-12-19T05:10:33.351385Z"
        },
        "papermill": {
          "duration": 0.039379,
          "end_time": "2023-12-19T05:10:33.354926",
          "exception": false,
          "start_time": "2023-12-19T05:10:33.315547",
          "status": "completed"
        },
        "tags": [],
        "colab": {
          "base_uri": "https://localhost:8080/",
          "height": 398
        },
        "id": "8b6ffbdf",
        "outputId": "4b14bf55-ea45-4d61-bbe7-638bc8415822"
      },
      "outputs": [
        {
          "output_type": "execute_result",
          "data": {
            "text/plain": [
              "Name        False\n",
              "Year         True\n",
              "Duration     True\n",
              "Genre        True\n",
              "Rating       True\n",
              "Votes        True\n",
              "Director     True\n",
              "Actor 1      True\n",
              "Actor 2      True\n",
              "Actor 3      True\n",
              "dtype: bool"
            ],
            "text/html": [
              "<div>\n",
              "<style scoped>\n",
              "    .dataframe tbody tr th:only-of-type {\n",
              "        vertical-align: middle;\n",
              "    }\n",
              "\n",
              "    .dataframe tbody tr th {\n",
              "        vertical-align: top;\n",
              "    }\n",
              "\n",
              "    .dataframe thead th {\n",
              "        text-align: right;\n",
              "    }\n",
              "</style>\n",
              "<table border=\"1\" class=\"dataframe\">\n",
              "  <thead>\n",
              "    <tr style=\"text-align: right;\">\n",
              "      <th></th>\n",
              "      <th>0</th>\n",
              "    </tr>\n",
              "  </thead>\n",
              "  <tbody>\n",
              "    <tr>\n",
              "      <th>Name</th>\n",
              "      <td>False</td>\n",
              "    </tr>\n",
              "    <tr>\n",
              "      <th>Year</th>\n",
              "      <td>True</td>\n",
              "    </tr>\n",
              "    <tr>\n",
              "      <th>Duration</th>\n",
              "      <td>True</td>\n",
              "    </tr>\n",
              "    <tr>\n",
              "      <th>Genre</th>\n",
              "      <td>True</td>\n",
              "    </tr>\n",
              "    <tr>\n",
              "      <th>Rating</th>\n",
              "      <td>True</td>\n",
              "    </tr>\n",
              "    <tr>\n",
              "      <th>Votes</th>\n",
              "      <td>True</td>\n",
              "    </tr>\n",
              "    <tr>\n",
              "      <th>Director</th>\n",
              "      <td>True</td>\n",
              "    </tr>\n",
              "    <tr>\n",
              "      <th>Actor 1</th>\n",
              "      <td>True</td>\n",
              "    </tr>\n",
              "    <tr>\n",
              "      <th>Actor 2</th>\n",
              "      <td>True</td>\n",
              "    </tr>\n",
              "    <tr>\n",
              "      <th>Actor 3</th>\n",
              "      <td>True</td>\n",
              "    </tr>\n",
              "  </tbody>\n",
              "</table>\n",
              "</div><br><label><b>dtype:</b> bool</label>"
            ]
          },
          "metadata": {},
          "execution_count": 10
        }
      ],
      "source": [
        "df.isnull().any()"
      ]
    },
    {
      "cell_type": "code",
      "execution_count": 11,
      "id": "72152496",
      "metadata": {
        "execution": {
          "iopub.execute_input": "2023-12-19T05:10:33.377921Z",
          "iopub.status.busy": "2023-12-19T05:10:33.377113Z",
          "iopub.status.idle": "2023-12-19T05:10:33.422144Z",
          "shell.execute_reply": "2023-12-19T05:10:33.420831Z"
        },
        "papermill": {
          "duration": 0.060068,
          "end_time": "2023-12-19T05:10:33.425037",
          "exception": false,
          "start_time": "2023-12-19T05:10:33.364969",
          "status": "completed"
        },
        "tags": [],
        "colab": {
          "base_uri": "https://localhost:8080/"
        },
        "id": "72152496",
        "outputId": "9e77062f-c602-4d48-e858-f886c0419edb"
      },
      "outputs": [
        {
          "output_type": "execute_result",
          "data": {
            "text/plain": [
              "np.int64(6)"
            ]
          },
          "metadata": {},
          "execution_count": 11
        }
      ],
      "source": [
        "df.duplicated().sum()"
      ]
    },
    {
      "cell_type": "code",
      "execution_count": 12,
      "id": "0c286aa2",
      "metadata": {
        "execution": {
          "iopub.execute_input": "2023-12-19T05:10:33.448129Z",
          "iopub.status.busy": "2023-12-19T05:10:33.447177Z",
          "iopub.status.idle": "2023-12-19T05:10:33.451877Z",
          "shell.execute_reply": "2023-12-19T05:10:33.450953Z"
        },
        "papermill": {
          "duration": 0.019188,
          "end_time": "2023-12-19T05:10:33.454323",
          "exception": false,
          "start_time": "2023-12-19T05:10:33.435135",
          "status": "completed"
        },
        "tags": [],
        "id": "0c286aa2"
      },
      "outputs": [],
      "source": [
        "#Data Exploration"
      ]
    },
    {
      "cell_type": "code",
      "execution_count": 13,
      "id": "4285969f",
      "metadata": {
        "execution": {
          "iopub.execute_input": "2023-12-19T05:10:33.477233Z",
          "iopub.status.busy": "2023-12-19T05:10:33.476700Z",
          "iopub.status.idle": "2023-12-19T05:10:33.569980Z",
          "shell.execute_reply": "2023-12-19T05:10:33.568686Z"
        },
        "papermill": {
          "duration": 0.110058,
          "end_time": "2023-12-19T05:10:33.574707",
          "exception": false,
          "start_time": "2023-12-19T05:10:33.464649",
          "status": "completed"
        },
        "tags": [],
        "colab": {
          "base_uri": "https://localhost:8080/"
        },
        "id": "4285969f",
        "outputId": "52da9d7c-72eb-4197-cb8a-51d401d8eaa0"
      },
      "outputs": [
        {
          "output_type": "stream",
          "name": "stdout",
          "text": [
            "INFO: \n",
            "\n",
            "<class 'pandas.core.frame.DataFrame'>\n",
            "RangeIndex: 15509 entries, 0 to 15508\n",
            "Data columns (total 10 columns):\n",
            " #   Column    Non-Null Count  Dtype  \n",
            "---  ------    --------------  -----  \n",
            " 0   Name      15509 non-null  object \n",
            " 1   Year      14981 non-null  object \n",
            " 2   Duration  7240 non-null   object \n",
            " 3   Genre     13632 non-null  object \n",
            " 4   Rating    7919 non-null   float64\n",
            " 5   Votes     7920 non-null   object \n",
            " 6   Director  14984 non-null  object \n",
            " 7   Actor 1   13892 non-null  object \n",
            " 8   Actor 2   13125 non-null  object \n",
            " 9   Actor 3   12365 non-null  object \n",
            "dtypes: float64(1), object(9)\n",
            "memory usage: 1.2+ MB\n",
            "None \n",
            "\n",
            "\n",
            "\n",
            "\n",
            "\n",
            "summary of the dataframe: \n",
            " <bound method NDFrame.describe of                                      Name    Year Duration            Genre  \\\n",
            "0                                             NaN      NaN            Drama   \n",
            "1      #Gadhvi (He thought he was Gandhi)  (2019)  109 min            Drama   \n",
            "2                             #Homecoming  (2021)   90 min   Drama, Musical   \n",
            "3                                 #Yaaram  (2019)  110 min  Comedy, Romance   \n",
            "4                       ...And Once Again  (2010)  105 min            Drama   \n",
            "...                                   ...     ...      ...              ...   \n",
            "15504                 Zulm Ko Jala Doonga  (1988)      NaN           Action   \n",
            "15505                               Zulmi  (1999)  129 min    Action, Drama   \n",
            "15506                           Zulmi Raj  (2005)      NaN           Action   \n",
            "15507                       Zulmi Shikari  (1988)      NaN           Action   \n",
            "15508                        Zulm-O-Sitam  (1998)  130 min    Action, Drama   \n",
            "\n",
            "       Rating Votes            Director           Actor 1             Actor 2  \\\n",
            "0         NaN   NaN       J.S. Randhawa          Manmauji              Birbal   \n",
            "1         7.0     8       Gaurav Bakshi      Rasika Dugal      Vivek Ghamande   \n",
            "2         NaN   NaN  Soumyajit Majumdar      Sayani Gupta   Plabita Borthakur   \n",
            "3         4.4    35          Ovais Khan           Prateik          Ishita Raj   \n",
            "4         NaN   NaN        Amol Palekar      Rajat Kapoor  Rituparna Sengupta   \n",
            "...       ...   ...                 ...               ...                 ...   \n",
            "15504     4.6    11       Mahendra Shah  Naseeruddin Shah       Sumeet Saigal   \n",
            "15505     4.5   655          Kuku Kohli      Akshay Kumar      Twinkle Khanna   \n",
            "15506     NaN   NaN          Kiran Thej   Sangeeta Tiwari                 NaN   \n",
            "15507     NaN   NaN                 NaN               NaN                 NaN   \n",
            "15508     6.2    20        K.C. Bokadia        Dharmendra          Jaya Prada   \n",
            "\n",
            "               Actor 3  \n",
            "0      Rajendra Bhatia  \n",
            "1        Arvind Jangid  \n",
            "2           Roy Angana  \n",
            "3      Siddhant Kapoor  \n",
            "4          Antara Mali  \n",
            "...                ...  \n",
            "15504    Suparna Anand  \n",
            "15505      Aruna Irani  \n",
            "15506              NaN  \n",
            "15507              NaN  \n",
            "15508      Arjun Sarja  \n",
            "\n",
            "[15509 rows x 10 columns]> \n",
            "\n",
            "\n",
            "\n",
            "\n",
            "\n",
            "nunique: \n",
            " 485 \n",
            "\n",
            "\n",
            "\n",
            "\n",
            "\n",
            "unique: \n",
            " [nan '(2019)' '(2021)' '(2010)' '(1997)' '(2005)' '(2008)' '(2012)'\n",
            " '(2014)' '(2004)' '(2016)' '(1991)' '(1990)' '(2018)' '(1987)' '(1948)'\n",
            " '(1958)' '(2017)' '(2020)' '(2009)' '(2002)' '(1993)' '(1946)' '(1994)'\n",
            " '(2007)' '(2013)' '(2003)' '(1998)' '(1979)' '(1951)' '(1956)' '(1974)'\n",
            " '(2015)' '(2006)' '(1981)' '(1985)' '(2011)' '(2001)' '(1967)' '(1988)'\n",
            " '(1995)' '(1959)' '(1996)' '(1970)' '(1976)' '(2000)' '(1999)' '(1973)'\n",
            " '(1968)' '(1943)' '(1953)' '(1986)' '(1983)' '(1989)' '(1982)' '(1977)'\n",
            " '(1957)' '(1950)' '(1992)' '(1969)' '(1975)' '(1947)' '(1972)' '(1971)'\n",
            " '(1935)' '(1978)' '(1960)' '(1944)' '(1963)' '(1940)' '(1984)' '(1934)'\n",
            " '(1955)' '(1936)' '(1980)' '(1966)' '(1949)' '(1962)' '(1964)' '(1952)'\n",
            " '(1933)' '(1942)' '(1939)' '(1954)' '(1945)' '(1961)' '(1965)' '(1938)'\n",
            " '(1941)' '(1931)' '(1937)' '(2022)' '(1932)' '(1923)' '(1915)' '(1928)'\n",
            " '(1922)' '(1917)' '(1913)' '(1930)' '(1926)' '(1914)' '(1924)'] \n",
            "\n",
            "\n",
            "\n",
            "\n",
            "\n",
            "Rating.unique: \n",
            " [ nan  7.   4.4  4.7  7.4  5.6  4.   6.2  5.9  6.5  5.7  6.3  7.2  6.6\n",
            "  7.3  7.1  6.9  3.5  5.   4.5  6.4  4.1  4.8  8.1  5.5  6.8  6.1  7.7\n",
            "  5.1  7.6  3.1  3.3  7.8  8.4  5.2  4.3  5.8  4.6  7.5  6.7  3.6  3.9\n",
            "  5.4  4.2  5.3  3.4  3.   8.   6.   3.8  7.9  2.7  4.9  2.4  3.7  3.2\n",
            "  2.5  2.8  2.6  2.9  8.2  8.7  8.3  9.3  8.8  2.1  2.3  8.5  8.6  9.\n",
            "  9.6  1.7  9.1  2.   1.4  8.9  1.9  9.4  9.7  1.8  9.2  1.6 10.   2.2\n",
            "  1.1] \n",
            "\n",
            "\n",
            "\n",
            "\n",
            "\n",
            "unique: \n",
            " [nan '109 min' '90 min' '110 min' '105 min' '147 min' '142 min' '59 min'\n",
            " '82 min' '116 min' '96 min' '120 min' '161 min' '166 min' '102 min'\n",
            " '87 min' '132 min' '66 min' '146 min' '112 min' '168 min' '158 min'\n",
            " '126 min' '94 min' '138 min' '124 min' '144 min' '157 min' '136 min'\n",
            " '107 min' '113 min' '80 min' '122 min' '149 min' '148 min' '130 min'\n",
            " '121 min' '188 min' '115 min' '103 min' '114 min' '170 min' '100 min'\n",
            " '99 min' '140 min' '128 min' '93 min' '125 min' '145 min' '75 min'\n",
            " '111 min' '134 min' '85 min' '104 min' '92 min' '137 min' '127 min'\n",
            " '150 min' '119 min' '135 min' '86 min' '76 min' '70 min' '72 min'\n",
            " '151 min' '95 min' '52 min' '89 min' '143 min' '177 min' '117 min'\n",
            " '123 min' '154 min' '88 min' '175 min' '153 min' '78 min' '139 min'\n",
            " '133 min' '101 min' '180 min' '60 min' '46 min' '164 min' '162 min'\n",
            " '171 min' '160 min' '152 min' '62 min' '163 min' '165 min' '141 min'\n",
            " '210 min' '129 min' '156 min' '240 min' '172 min' '155 min' '118 min'\n",
            " '167 min' '106 min' '193 min' '57 min' '108 min' '45 min' '195 min'\n",
            " '174 min' '81 min' '178 min' '58 min' '184 min' '97 min' '98 min'\n",
            " '131 min' '176 min' '169 min' '77 min' '91 min' '84 min' '173 min'\n",
            " '74 min' '67 min' '181 min' '300 min' '79 min' '65 min' '48 min'\n",
            " '183 min' '159 min' '83 min' '68 min' '49 min' '201 min' '64 min'\n",
            " '186 min' '50 min' '69 min' '207 min' '55 min' '61 min' '185 min'\n",
            " '187 min' '216 min' '63 min' '54 min' '198 min' '51 min' '71 min'\n",
            " '73 min' '218 min' '191 min' '321 min' '199 min' '53 min' '56 min'\n",
            " '179 min' '47 min' '206 min' '190 min' '211 min' '247 min' '213 min'\n",
            " '223 min' '2 min' '189 min' '224 min' '202 min' '255 min' '197 min'\n",
            " '182 min' '214 min' '208 min' '21 min' '200 min' '192 min' '37 min'\n",
            " '261 min' '238 min' '204 min' '235 min' '298 min' '217 min' '250 min'] \n",
            "\n",
            "\n",
            "\n",
            "\n",
            "\n",
            "groupby(['Genre']': \n",
            "                               Name  Year  Duration  Rating  Votes  Director  \\\n",
            "Genre                                                                         \n",
            "Action                        1289  1265       262     417    417      1249   \n",
            "Action, Adventure               41    41        17      24     24        41   \n",
            "Action, Adventure, Biography     1     1         1       1      1         1   \n",
            "Action, Adventure, Comedy       42    41        37      40     40        42   \n",
            "Action, Adventure, Crime        19    19        11      16     16        19   \n",
            "...                            ...   ...       ...     ...    ...       ...   \n",
            "Thriller, Action                 2     2         1       1      1         2   \n",
            "Thriller, Musical, Mystery       1     1         1       1      1         1   \n",
            "Thriller, Mystery                3     3         2       3      3         3   \n",
            "Thriller, Mystery, Family        1     1         1       1      1         1   \n",
            "War                              8     5         4       3      3         8   \n",
            "\n",
            "                              Actor 1  Actor 2  Actor 3  \n",
            "Genre                                                    \n",
            "Action                           1207     1124     1005  \n",
            "Action, Adventure                  40       39       39  \n",
            "Action, Adventure, Biography        1        1        1  \n",
            "Action, Adventure, Comedy          42       42       42  \n",
            "Action, Adventure, Crime           19       19       19  \n",
            "...                               ...      ...      ...  \n",
            "Thriller, Action                    2        2        2  \n",
            "Thriller, Musical, Mystery          1        1        1  \n",
            "Thriller, Mystery                   3        3        3  \n",
            "Thriller, Mystery, Family           1        1        1  \n",
            "War                                 8        7        7  \n",
            "\n",
            "[485 rows x 9 columns] \n",
            "\n",
            "\n",
            "\n",
            "\n",
            "\n",
            "value_counts: \n",
            " Director\n",
            "Jayant Desai       58\n",
            "Kanti Shah         57\n",
            "Babubhai Mistry    50\n",
            "Mahesh Bhatt       48\n",
            "Master Bhagwan     47\n",
            "Nanabhai Bhatt     46\n",
            "Name: count, dtype: int64 \n",
            "\n",
            "\n",
            "\n",
            "\n",
            "\n",
            "isnull().any(): \n",
            " Name        False\n",
            "Year         True\n",
            "Duration     True\n",
            "Genre        True\n",
            "Rating       True\n",
            "Votes        True\n",
            "Director     True\n",
            "Actor 1      True\n",
            "Actor 2      True\n",
            "Actor 3      True\n",
            "dtype: bool \n",
            "\n",
            "\n",
            "\n",
            "\n",
            "\n"
          ]
        }
      ],
      "source": [
        "print('INFO:',\"\\n\")\n",
        "print(df.info(),\"\\n\\n\\n\\n\\n\")\n",
        "print('summary of the dataframe:',\"\\n\",df.describe,\"\\n\\n\\n\\n\\n\")\n",
        "print('nunique:',\"\\n\",df['Genre'].nunique(),\"\\n\\n\\n\\n\\n\")\n",
        "print('unique:',\"\\n\",df['Year'].unique(),\"\\n\\n\\n\\n\\n\")\n",
        "print('Rating.unique:',\"\\n\",df.Rating.unique(),\"\\n\\n\\n\\n\\n\")\n",
        "print('unique:',\"\\n\",df['Duration'].unique(),\"\\n\\n\\n\\n\\n\")\n",
        "print(\"groupby(['Genre']':\",\"\\n\",df.groupby(['Genre']).count(),\"\\n\\n\\n\\n\\n\")\n",
        "print(\"value_counts:\",\"\\n\",df[\"Director\"].value_counts().head(6),\"\\n\\n\\n\\n\\n\")\n",
        "print('isnull().any():',\"\\n\",df.isnull().any(),\"\\n\\n\\n\\n\\n\")\n"
      ]
    },
    {
      "cell_type": "code",
      "execution_count": 14,
      "id": "d2fb2a3f",
      "metadata": {
        "execution": {
          "iopub.execute_input": "2023-12-19T05:10:33.598098Z",
          "iopub.status.busy": "2023-12-19T05:10:33.597370Z",
          "iopub.status.idle": "2023-12-19T05:10:33.606231Z",
          "shell.execute_reply": "2023-12-19T05:10:33.605185Z"
        },
        "papermill": {
          "duration": 0.023823,
          "end_time": "2023-12-19T05:10:33.609157",
          "exception": false,
          "start_time": "2023-12-19T05:10:33.585334",
          "status": "completed"
        },
        "tags": [],
        "id": "d2fb2a3f"
      },
      "outputs": [],
      "source": [
        "def TopTenPlot(column):\n",
        "    global df\n",
        "    df[column].value_counts().sort_values(ascending=False)[:10].plot(kind=\"bar\", figsize=(20,6), edgecolor=\"k\")\n",
        "    plt.xticks(rotation=0)\n",
        "    plt.title(\"Top Ten {}\".format(column))\n",
        "    plt.xlabel(column)\n",
        "    plt.ylabel(\"Count\")\n",
        "    plt.show()"
      ]
    },
    {
      "cell_type": "code",
      "execution_count": 15,
      "id": "6971e698",
      "metadata": {
        "execution": {
          "iopub.execute_input": "2023-12-19T05:10:33.633441Z",
          "iopub.status.busy": "2023-12-19T05:10:33.632521Z",
          "iopub.status.idle": "2023-12-19T05:10:33.640434Z",
          "shell.execute_reply": "2023-12-19T05:10:33.639389Z"
        },
        "papermill": {
          "duration": 0.022983,
          "end_time": "2023-12-19T05:10:33.643253",
          "exception": false,
          "start_time": "2023-12-19T05:10:33.620270",
          "status": "completed"
        },
        "tags": [],
        "id": "6971e698"
      },
      "outputs": [],
      "source": [
        "def Histogram(column):\n",
        "    global df\n",
        "    plt.figure(figsize=(20,6))\n",
        "    plt.hist(df[column], edgecolor=\"k\")\n",
        "    plt.xticks(rotation=0)\n",
        "    plt.title(\"Histogram of {}\".format(column))\n",
        "    plt.xlabel(column)\n",
        "    plt.ylabel(\"Frequency\")\n",
        "    plt.show()"
      ]
    },
    {
      "cell_type": "code",
      "execution_count": 16,
      "id": "04a50410",
      "metadata": {
        "execution": {
          "iopub.execute_input": "2023-12-19T05:10:33.666802Z",
          "iopub.status.busy": "2023-12-19T05:10:33.665853Z",
          "iopub.status.idle": "2023-12-19T05:10:33.673664Z",
          "shell.execute_reply": "2023-12-19T05:10:33.672528Z"
        },
        "papermill": {
          "duration": 0.023091,
          "end_time": "2023-12-19T05:10:33.676624",
          "exception": false,
          "start_time": "2023-12-19T05:10:33.653533",
          "status": "completed"
        },
        "tags": [],
        "id": "04a50410"
      },
      "outputs": [],
      "source": [
        "def Scatter(x, y, c=None):\n",
        "    global df\n",
        "    plt.figure(figsize=(20,6))\n",
        "    plt.scatter(df[x], df[y], edgecolor=\"k\", c=c)\n",
        "    plt.xticks(rotation=0)\n",
        "    plt.title(\"Scatter plot X:{} / Y:{}\".format(x, y))\n",
        "    plt.xlabel(x)\n",
        "    plt.ylabel(y)\n",
        "    plt.show()"
      ]
    },
    {
      "cell_type": "code",
      "execution_count": 17,
      "id": "e4c4042c",
      "metadata": {
        "execution": {
          "iopub.execute_input": "2023-12-19T05:10:33.700951Z",
          "iopub.status.busy": "2023-12-19T05:10:33.699952Z",
          "iopub.status.idle": "2023-12-19T05:10:34.165277Z",
          "shell.execute_reply": "2023-12-19T05:10:34.163844Z"
        },
        "papermill": {
          "duration": 0.480765,
          "end_time": "2023-12-19T05:10:34.168228",
          "exception": false,
          "start_time": "2023-12-19T05:10:33.687463",
          "status": "completed"
        },
        "tags": [],
        "colab": {
          "base_uri": "https://localhost:8080/",
          "height": 473
        },
        "id": "e4c4042c",
        "outputId": "bdab11f0-892a-4776-f2d0-1e43a492d560"
      },
      "outputs": [
        {
          "output_type": "display_data",
          "data": {
            "text/plain": [
              "<Figure size 2000x600 with 1 Axes>"
            ],
            "image/png": "[encoded data removed]"
          },
          "metadata": {}
        }
      ],
      "source": [
        "TopTenPlot(\"Director\")"
      ]
    },
    {
      "cell_type": "code",
      "execution_count": 18,
      "id": "69c80429",
      "metadata": {
        "execution": {
          "iopub.execute_input": "2023-12-19T05:10:34.193506Z",
          "iopub.status.busy": "2023-12-19T05:10:34.192974Z",
          "iopub.status.idle": "2023-12-19T05:10:34.631725Z",
          "shell.execute_reply": "2023-12-19T05:10:34.630327Z"
        },
        "papermill": {
          "duration": 0.454865,
          "end_time": "2023-12-19T05:10:34.634670",
          "exception": false,
          "start_time": "2023-12-19T05:10:34.179805",
          "status": "completed"
        },
        "tags": [],
        "colab": {
          "base_uri": "https://localhost:8080/",
          "height": 473
        },
        "id": "69c80429",
        "outputId": "a10f452c-b6bc-4bac-96d7-b4f24019d550"
      },
      "outputs": [
        {
          "output_type": "display_data",
          "data": {
            "text/plain": [
              "<Figure size 2000x600 with 1 Axes>"
            ],
            "image/png": "[encoded data removed]"
          },
          "metadata": {}
        }
      ],
      "source": [
        "TopTenPlot(\"Actor 2\")"
      ]
    },
    {
      "cell_type": "code",
      "execution_count": 19,
      "id": "3e60bb79",
      "metadata": {
        "execution": {
          "iopub.execute_input": "2023-12-19T05:10:34.660806Z",
          "iopub.status.busy": "2023-12-19T05:10:34.660278Z",
          "iopub.status.idle": "2023-12-19T05:10:35.093793Z",
          "shell.execute_reply": "2023-12-19T05:10:35.092403Z"
        },
        "papermill": {
          "duration": 0.452408,
          "end_time": "2023-12-19T05:10:35.099200",
          "exception": false,
          "start_time": "2023-12-19T05:10:34.646792",
          "status": "completed"
        },
        "tags": [],
        "colab": {
          "base_uri": "https://localhost:8080/",
          "height": 473
        },
        "id": "3e60bb79",
        "outputId": "5f56fb3b-d3a0-4fd3-fa5e-f37d9ac49414"
      },
      "outputs": [
        {
          "output_type": "display_data",
          "data": {
            "text/plain": [
              "<Figure size 2000x600 with 1 Axes>"
            ],
            "image/png": "[encoded data removed]"
          },
          "metadata": {}
        }
      ],
      "source": [
        "TopTenPlot(\"Actor 3\")"
      ]
    },
    {
      "cell_type": "code",
      "execution_count": 20,
      "id": "762c4b5a",
      "metadata": {
        "execution": {
          "iopub.execute_input": "2023-12-19T05:10:35.138025Z",
          "iopub.status.busy": "2023-12-19T05:10:35.137471Z",
          "iopub.status.idle": "2023-12-19T05:10:35.852051Z",
          "shell.execute_reply": "2023-12-19T05:10:35.848913Z"
        },
        "papermill": {
          "duration": 0.738156,
          "end_time": "2023-12-19T05:10:35.855362",
          "exception": false,
          "start_time": "2023-12-19T05:10:35.117206",
          "status": "completed"
        },
        "tags": [],
        "colab": {
          "base_uri": "https://localhost:8080/",
          "height": 268
        },
        "id": "762c4b5a",
        "outputId": "119728bc-09b9-4a67-febd-0bba2a44efa2"
      },
      "outputs": [
        {
          "output_type": "display_data",
          "data": {
            "text/plain": [
              "<Figure size 250x250 with 2 Axes>"
            ],
            "image/png": "[encoded data removed]"
          },
          "metadata": {}
        }
      ],
      "source": [
        "sns.pairplot(df)\n",
        "numeric_columns = df.select_dtypes(include=['float64', 'int64']).columns\n",
        "correlation_matrix = df[numeric_columns].corr(method='spearman')"
      ]
    },
    {
      "cell_type": "markdown",
      "id": "eb26f314",
      "metadata": {
        "papermill": {
          "duration": 0.014529,
          "end_time": "2023-12-19T05:10:35.882978",
          "exception": false,
          "start_time": "2023-12-19T05:10:35.868449",
          "status": "completed"
        },
        "tags": [],
        "id": "eb26f314"
      },
      "source": [
        "*** Conclusion**\n",
        "\n",
        "In conclusion, this project provides valuable insights and a predictive model for movie rating prediction. The film industry can benefit from these findings to make data-driven decisions regarding movie production, casting, and marketing. The most influential factors identified are the year of release, the number of votes, and movie duration.\n"
      ]
    }
  ],
  "metadata": {
    "kaggle": {
      "accelerator": "none",
      "dataSources": [
        {
          "datasetId": 1416444,
          "sourceId": 2346296,
          "sourceType": "datasetVersion"
        }
      ],
      "dockerImageVersionId": 30626,
      "isGpuEnabled": false,
      "isInternetEnabled": true,
      "language": "python",
      "sourceType": "notebook"
    },
    "kernelspec": {
      "display_name": "Python 3",
      "language": "python",
      "name": "python3"
    },
    "language_info": {
      "codemirror_mode": {
        "name": "ipython",
        "version": 3
      },
      "file_extension": ".py",
      "mimetype": "text/x-python",
      "name": "python",
      "nbconvert_exporter": "python",
      "pygments_lexer": "ipython3",
      "version": "3.10.12"
    },
    "papermill": {
      "default_parameters": {},
      "duration": 10.40925,
      "end_time": "2023-12-19T05:10:36.923918",
      "environment_variables": {},
      "exception": null,
      "input_path": "__notebook__.ipynb",
      "output_path": "__notebook__.ipynb",
      "parameters": {},
      "start_time": "2023-12-19T05:10:26.514668",
      "version": "2.4.0"
    },
    "colab": {
      "provenance": []
    }
  },
  "nbformat": 4,
  "nbformat_minor": 5
}